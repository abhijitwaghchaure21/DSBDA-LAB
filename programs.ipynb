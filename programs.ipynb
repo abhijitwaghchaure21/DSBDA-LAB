{
 "cells": [
  {
   "cell_type": "code",
   "execution_count": 1,
   "id": "b315dd40-cb37-4931-ad90-d02257f9bbda",
   "metadata": {},
   "outputs": [
    {
     "name": "stdout",
     "output_type": "stream",
     "text": [
      "rollno is 101\n"
     ]
    }
   ],
   "source": [
    "#Q1)\n",
    "\n",
    "rollno=101 \n",
    "name=\"rajesh\" \n",
    "print(\"rollno is {}\".format(rollno))"
   ]
  },
  {
   "cell_type": "code",
   "execution_count": 2,
   "id": "04585c9b-0b2e-4760-a067-a4e2718a7ced",
   "metadata": {},
   "outputs": [
    {
     "name": "stdout",
     "output_type": "stream",
     "text": [
      "['a', 'x', 'y', 'z', ['d', 'e', 'h', 'f'], 'p', 'o', 'r', 'g']\n"
     ]
    }
   ],
   "source": [
    "#Q2)\n",
    "\n",
    "x=[\"a\",\"x\",\"y\",\"z\",[\"d\",\"e\",\"f\"],\"p\",\"o\",\"r\"]\n",
    "x.append(\"g\")\n",
    "x[4].insert(2,\"h\")\n",
    "print(x)"
   ]
  },
  {
   "cell_type": "code",
   "execution_count": 3,
   "id": "68d0533d-0d0f-4d6a-b13d-ebb8f941726e",
   "metadata": {},
   "outputs": [
    {
     "name": "stdout",
     "output_type": "stream",
     "text": [
      "{'rollno': 101, 'name': 'ajay', 'fees': 4000}\n"
     ]
    }
   ],
   "source": [
    "#Q3)\n",
    "\n",
    "student={\"rollno\":101,\"name\":\"ajay\"}\n",
    "student[\"fees\"]=4000\n",
    "print(student)"
   ]
  },
  {
   "cell_type": "code",
   "execution_count": 4,
   "id": "611c17a8-e19b-45be-a19a-7062a5f1efc9",
   "metadata": {},
   "outputs": [
    {
     "name": "stdout",
     "output_type": "stream",
     "text": [
      "{2, 3, 4, 5, 8}\n"
     ]
    }
   ],
   "source": [
    "#Q4)\n",
    "\n",
    "a={2,3,4,5}\n",
    "a.add(2)\n",
    "a.add(8)\n",
    "print(a)"
   ]
  },
  {
   "cell_type": "code",
   "execution_count": 6,
   "id": "722ec938-d50b-487c-b348-b532de71d6c7",
   "metadata": {},
   "outputs": [
    {
     "name": "stdout",
     "output_type": "stream",
     "text": [
      "(2, 3, 4, 6, 7)\n"
     ]
    }
   ],
   "source": [
    "#Q5)\n",
    "\n",
    "x=(2,3,4,6)\n",
    "y=list(x)\n",
    "y.append(7)\n",
    "x=tuple(y)\n",
    "print(x)"
   ]
  }
 ],
 "metadata": {
  "kernelspec": {
   "display_name": "Python 3 (ipykernel)",
   "language": "python",
   "name": "python3"
  },
  "language_info": {
   "codemirror_mode": {
    "name": "ipython",
    "version": 3
   },
   "file_extension": ".py",
   "mimetype": "text/x-python",
   "name": "python",
   "nbconvert_exporter": "python",
   "pygments_lexer": "ipython3",
   "version": "3.13.1"
  }
 },
 "nbformat": 4,
 "nbformat_minor": 5
}
