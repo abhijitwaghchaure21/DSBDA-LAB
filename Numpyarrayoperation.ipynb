{
 "cells": [
  {
   "cell_type": "code",
   "execution_count": 1,
   "id": "5f6c2731",
   "metadata": {},
   "outputs": [],
   "source": [
    "import numpy as np\n",
    "scores = np.array([    [85, 90, 78, 92, 88],  \n",
    "                       [72, 75, 80, 68, 74],   \n",
    "                       [95, 88, 92, 96, 90],     \n",
    "                       [60, 65, 70, 58, 62],   \n",
    "                       [88, 84, 86, 89, 87] ])"
   ]
  },
  {
   "cell_type": "code",
   "execution_count": 2,
   "id": "b84e9612",
   "metadata": {},
   "outputs": [
    {
     "data": {
      "text/plain": [
       "array([95, 88, 92, 96, 90])"
      ]
     },
     "execution_count": 2,
     "metadata": {},
     "output_type": "execute_result"
    }
   ],
   "source": [
    "#Retrieve the scores of Student 3 for all subjects. \n",
    "scores[2]"
   ]
  },
  {
   "cell_type": "code",
   "execution_count": 3,
   "id": "38c1edb6",
   "metadata": {},
   "outputs": [
    {
     "data": {
      "text/plain": [
       "array([90, 75, 88, 65, 84])"
      ]
     },
     "execution_count": 3,
     "metadata": {},
     "output_type": "execute_result"
    }
   ],
   "source": [
    "#Retrieve the scores for Subject 2 (column 2) across all students.\n",
    "scores[:,1]"
   ]
  },
  {
   "cell_type": "code",
   "execution_count": 8,
   "id": "0f475df1",
   "metadata": {},
   "outputs": [
    {
     "data": {
      "text/plain": [
       "array([[85, 90],\n",
       "       [72, 75],\n",
       "       [95, 88]])"
      ]
     },
     "execution_count": 8,
     "metadata": {},
     "output_type": "execute_result"
    }
   ],
   "source": [
    "#Extract the scores of the first 3 students for the first 2 subjects\n",
    "scores[:3,:2]"
   ]
  },
  {
   "cell_type": "code",
   "execution_count": 9,
   "id": "b6c0f11d",
   "metadata": {},
   "outputs": [
    {
     "data": {
      "text/plain": [
       "array([[70, 58, 62],\n",
       "       [86, 89, 87]])"
      ]
     },
     "execution_count": 9,
     "metadata": {},
     "output_type": "execute_result"
    }
   ],
   "source": [
    "#Extract the scores of the last 2 students for the last 3 subjects.\n",
    "scores[3:,2:]"
   ]
  },
  {
   "cell_type": "code",
   "execution_count": 17,
   "id": "503fd40c",
   "metadata": {},
   "outputs": [
    {
     "data": {
      "text/plain": [
       "array([[ 90,  95,  83,  97,  93],\n",
       "       [ 77,  80,  85,  73,  79],\n",
       "       [100,  93,  97, 101,  95],\n",
       "       [ 65,  70,  75,  63,  67],\n",
       "       [ 93,  89,  91,  94,  92]])"
      ]
     },
     "execution_count": 17,
     "metadata": {},
     "output_type": "execute_result"
    }
   ],
   "source": [
    "#Add 5 bonus marks to all scores. \n",
    "scores[:+5]"
   ]
  },
  {
   "cell_type": "code",
   "execution_count": 22,
   "id": "8672c5b0",
   "metadata": {},
   "outputs": [
    {
     "data": {
      "text/plain": [
       "array([[83],\n",
       "       [69],\n",
       "       [85],\n",
       "       [57],\n",
       "       [82]])"
      ]
     },
     "execution_count": 22,
     "metadata": {},
     "output_type": "execute_result"
    }
   ],
   "source": [
    "#Subtract 10 marks from scores of Subject 4 for all students.\n",
    "scores[:,4:]-10"
   ]
  },
  {
   "cell_type": "code",
   "execution_count": 27,
   "id": "35b29630",
   "metadata": {},
   "outputs": [
    {
     "data": {
      "text/plain": [
       "array([91.6, 78.8, 97.2, 68. , 91.8])"
      ]
     },
     "execution_count": 27,
     "metadata": {},
     "output_type": "execute_result"
    }
   ],
   "source": [
    "#Calculate the percentage scores of each student assuming each subject is out of 100. \n",
    "scores.sum(axis=1)/5"
   ]
  },
  {
   "cell_type": "code",
   "execution_count": 28,
   "id": "26e743ae",
   "metadata": {},
   "outputs": [
    {
     "data": {
      "text/plain": [
       "array([91.6, 78.8, 97.2, 68. , 91.8])"
      ]
     },
     "execution_count": 28,
     "metadata": {},
     "output_type": "execute_result"
    }
   ],
   "source": [
    "#Calculate the average score for each student across all subjects. \n",
    "scores.mean(axis=1)"
   ]
  },
  {
   "cell_type": "code",
   "execution_count": 29,
   "id": "d59dd429",
   "metadata": {},
   "outputs": [
    {
     "data": {
      "text/plain": [
       "array([458, 394, 486, 340, 459])"
      ]
     },
     "execution_count": 29,
     "metadata": {},
     "output_type": "execute_result"
    }
   ],
   "source": [
    "#.Find the total marks scored by each student. \n",
    "scores.sum(axis=1)"
   ]
  },
  {
   "cell_type": "code",
   "execution_count": 30,
   "id": "2733e7ae",
   "metadata": {},
   "outputs": [
    {
     "data": {
      "text/plain": [
       "101"
      ]
     },
     "execution_count": 30,
     "metadata": {},
     "output_type": "execute_result"
    }
   ],
   "source": [
    "#Identify the highest score in the entire array.\n",
    "np.max(scores)"
   ]
  },
  {
   "cell_type": "code",
   "execution_count": 31,
   "id": "da0791d2",
   "metadata": {},
   "outputs": [
    {
     "data": {
      "text/plain": [
       "array([85. , 85.4, 86.2, 85.6, 85.2])"
      ]
     },
     "execution_count": 31,
     "metadata": {},
     "output_type": "execute_result"
    }
   ],
   "source": [
    "#Determine the average score for each subject. \n",
    "scores.mean(axis=0)"
   ]
  },
  {
   "cell_type": "code",
   "execution_count": 32,
   "id": "4538e095",
   "metadata": {},
   "outputs": [
    {
     "data": {
      "text/plain": [
       "63"
      ]
     },
     "execution_count": 32,
     "metadata": {},
     "output_type": "execute_result"
    }
   ],
   "source": [
    "#Find the student with the lowest average score.\n",
    "lowest_avg_student = np.argmin(average_scores)\n",
    "print(\"Lowest average student : \",lowest_avg_student)"
   ]
  },
  {
   "cell_type": "code",
   "execution_count": null,
   "id": "0b7cd8eb",
   "metadata": {},
   "outputs": [],
   "source": []
  }
 ],
 "metadata": {
  "kernelspec": {
   "display_name": "Python 3 (ipykernel)",
   "language": "python",
   "name": "python3"
  },
  "language_info": {
   "codemirror_mode": {
    "name": "ipython",
    "version": 3
   },
   "file_extension": ".py",
   "mimetype": "text/x-python",
   "name": "python",
   "nbconvert_exporter": "python",
   "pygments_lexer": "ipython3",
   "version": "3.11.7"
  }
 },
 "nbformat": 4,
 "nbformat_minor": 5
}
