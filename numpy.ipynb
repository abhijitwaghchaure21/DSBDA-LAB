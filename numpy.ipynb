{
 "cells": [
  {
   "cell_type": "code",
   "execution_count": 1,
   "id": "70390a83",
   "metadata": {},
   "outputs": [],
   "source": [
    "#question 1\n",
    "import numpy as np"
   ]
  },
  {
   "cell_type": "code",
   "execution_count": 2,
   "id": "0662f35c",
   "metadata": {},
   "outputs": [],
   "source": [
    "l1=[100, 200, 150, 300, 250, 400, 350]\n",
    "arr=np.array(l1)"
   ]
  },
  {
   "cell_type": "code",
   "execution_count": 3,
   "id": "b1423e02",
   "metadata": {},
   "outputs": [
    {
     "data": {
      "text/plain": [
       "numpy.ndarray"
      ]
     },
     "execution_count": 3,
     "metadata": {},
     "output_type": "execute_result"
    }
   ],
   "source": [
    "type(arr)"
   ]
  },
  {
   "cell_type": "code",
   "execution_count": 4,
   "id": "aeae78ca",
   "metadata": {},
   "outputs": [
    {
     "name": "stdout",
     "output_type": "stream",
     "text": [
      "Element-wise Addition: [11 22 33]\n",
      "Element-wise Multiplication: [10 40 90]\n"
     ]
    }
   ],
   "source": [
    "# Question 2\n",
    "import numpy as np\n",
    "store_1_prices = np.array([10, 20, 30])\n",
    "store_2_prices = np.array([1, 2, 3])\n",
    "addition_result = store_1_prices + store_2_prices\n",
    "multiplication_result = store_1_prices * store_2_prices\n",
    "\n",
    "# Print the results\n",
    "print(\"Element-wise Addition:\", addition_result)\n",
    "print(\"Element-wise Multiplication:\", multiplication_result)"
   ]
  },
  {
   "cell_type": "code",
   "execution_count": 5,
   "id": "b4cf8f07",
   "metadata": {},
   "outputs": [
    {
     "name": "stdout",
     "output_type": "stream",
     "text": [
      "[300 400 500 600]\n"
     ]
    }
   ],
   "source": [
    "#Question 3\n",
    "sales_january = np.array([300, 400])\n",
    "sales_february = np.array([500, 600])\n",
    "\n",
    "combined_sales = np.append(sales_january, sales_february)\n",
    "print(combined_sales)"
   ]
  },
  {
   "cell_type": "code",
   "execution_count": 6,
   "id": "8542dbc5",
   "metadata": {},
   "outputs": [
    {
     "name": "stdout",
     "output_type": "stream",
     "text": [
      "[[1 2 3]\n",
      " [4 5 6]]\n"
     ]
    }
   ],
   "source": [
    "#Question 4\n",
    "data = np.array([1, 2, 3, 4, 5, 6])\n",
    "\n",
    "reshaped_data = data.reshape(2, 3)\n",
    "print(reshaped_data)"
   ]
  },
  {
   "cell_type": "code",
   "execution_count": 7,
   "id": "725977e5",
   "metadata": {},
   "outputs": [
    {
     "name": "stdout",
     "output_type": "stream",
     "text": [
      "[80 90 85 95]\n"
     ]
    }
   ],
   "source": [
    "#Question 5\n",
    "scores = np.array([[80, 90], [85, 95]])\n",
    "\n",
    "one_d = scores.ravel()\n",
    "print(one_d)"
   ]
  },
  {
   "cell_type": "code",
   "execution_count": null,
   "id": "0395a8f5",
   "metadata": {},
   "outputs": [],
   "source": []
  }
 ],
 "metadata": {
  "kernelspec": {
   "display_name": "Python 3 (ipykernel)",
   "language": "python",
   "name": "python3"
  },
  "language_info": {
   "codemirror_mode": {
    "name": "ipython",
    "version": 3
   },
   "file_extension": ".py",
   "mimetype": "text/x-python",
   "name": "python",
   "nbconvert_exporter": "python",
   "pygments_lexer": "ipython3",
   "version": "3.11.7"
  }
 },
 "nbformat": 4,
 "nbformat_minor": 5
}
